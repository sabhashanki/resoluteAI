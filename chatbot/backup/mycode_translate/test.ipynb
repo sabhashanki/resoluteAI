{
 "cells": [
  {
   "cell_type": "code",
   "execution_count": 1,
   "metadata": {},
   "outputs": [],
   "source": [
    "from deep_translator import GoogleTranslator"
   ]
  },
  {
   "cell_type": "code",
   "execution_count": 2,
   "metadata": {},
   "outputs": [],
   "source": [
    "source = 'auto'\n",
    "target = 'ta'\n",
    "goo = GoogleTranslator(source=source, target=target)"
   ]
  },
  {
   "cell_type": "code",
   "execution_count": 5,
   "metadata": {},
   "outputs": [
    {
     "name": "stdout",
     "output_type": "stream",
     "text": [
      "கமல்ஹாசன் (பார்த்தசாரதி சீனிவாசன் 7 நவம்பர் 1954 இல் பிறந்தார்)[4] ஒரு இந்திய நடிகர், திரைப்பட தயாரிப்பாளர், திரைக்கதை எழுத்தாளர், பின்னணிப் பாடகர், தொலைக்காட்சி தொகுப்பாளர், சமூக ஆர்வலர் மற்றும் அரசியல்வாதி ஆவார். தமிழ் தவிர, சில மலையாளம், ஹிந்தி, தெலுங்கு, கன்னடம் மற்றும் பெங்காலி படங்களிலும் தோன்றியுள்ளார். இந்திய சினிமாவின் மிகச்சிறந்த நடிகர்களில் ஒருவராகக் கருதப்படும் ஹாசன், இந்தியத் திரைப்படத் துறையில் பல புதிய தொழில்நுட்பங்கள் மற்றும் அழகுசாதனப் பொருட்களை அறிமுகப்படுத்தியதற்காகவும் அறியப்படுகிறார்.[5][6][7] அவர் நான்கு தேசிய திரைப்பட விருதுகள், ஒன்பது தமிழ்நாடு மாநில திரைப்பட விருதுகள், நான்கு நந்தி விருதுகள், ஒரு ராஷ்டிரபதி விருது, இரண்டு பிலிம்பேர் விருதுகள் மற்றும் 17 பிலிம்பேர் விருதுகள் தென்னிந்திய விருதுகள் உட்பட பல பாராட்டுகளை வென்றுள்ளார். அவருக்கு 1984 இல் கலைமாமணி விருது, 1990 இல் பத்மஸ்ரீ, 2014 இல் பத்ம பூஷன் மற்றும் 2016 இல் Ordre des Arts et des Lettres (செவாலியர்) வழங்கப்பட்டது.[8\n"
     ]
    }
   ],
   "source": [
    "text = \"\"\"\n",
    "Kamal Haasan (born Parthasarathy Srinivasan on 7 November 1954)[4] is an Indian actor, filmmaker, screenwriter, playback singer, television presenter, social activist and politician who works mainly in Tamil cinema. Besides Tamil, he has also appeared in some Malayalam, Hindi, Telugu, Kannada and Bengali films. Considered one of the finest actors in Indian cinema, Haasan is also known for introducing many new technologies and cosmetics to the Indian film industry.[5][6][7] He has won numerous accolades, including Four National Film Awards, Nine Tamil Nadu State Film Awards, Four Nandi Awards, One Rashtrapati Award, Two Filmfare Awards and 17 Filmfare Awards South. He was awarded the Kalaimamani Award in 1984, the Padma Shri in 1990, the Padma Bhushan in 2014 and the Ordre des Arts et des Lettres (Chevalier) in 2016.[8\n",
    "\n",
    "\"\"\"\n",
    "goo.translate(text)"
   ]
  },
  {
   "cell_type": "code",
   "execution_count": null,
   "metadata": {},
   "outputs": [],
   "source": []
  },
  {
   "cell_type": "code",
   "execution_count": null,
   "metadata": {},
   "outputs": [],
   "source": []
  },
  {
   "cell_type": "code",
   "execution_count": null,
   "metadata": {},
   "outputs": [],
   "source": []
  },
  {
   "cell_type": "code",
   "execution_count": null,
   "metadata": {},
   "outputs": [],
   "source": []
  },
  {
   "cell_type": "code",
   "execution_count": null,
   "metadata": {},
   "outputs": [],
   "source": []
  }
 ],
 "metadata": {
  "kernelspec": {
   "display_name": "res_3.10",
   "language": "python",
   "name": "python3"
  },
  "language_info": {
   "codemirror_mode": {
    "name": "ipython",
    "version": 3
   },
   "file_extension": ".py",
   "mimetype": "text/x-python",
   "name": "python",
   "nbconvert_exporter": "python",
   "pygments_lexer": "ipython3",
   "version": "3.10.0"
  }
 },
 "nbformat": 4,
 "nbformat_minor": 2
}
